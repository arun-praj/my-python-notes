{
 "cells": [
  {
   "cell_type": "markdown",
   "metadata": {},
   "source": [
    "# Setup postgres instead of sqlite in django\n",
    "___"
   ]
  },
  {
   "cell_type": "markdown",
   "metadata": {},
   "source": [
    "## 1. Install dependency\n",
    "```console\n",
    "(env) $ pip install psycopg2-binary\n",
    "```\n",
    "Module to connect postgres and django"
   ]
  },
  {
   "cell_type": "markdown",
   "metadata": {},
   "source": [
    "## 2. Install postgresql and pgadmin\n",
    "[Video tutorial to set up postgresql and pgadmin](https://www.youtube.com/watch?v=69YkZqZgz9s)"
   ]
  },
  {
   "cell_type": "markdown",
   "metadata": {},
   "source": [
    "## [Video for rest of the steps](https://www.youtube.com/watch?v=69YkZqZgz9s)"
   ]
  },
  {
   "cell_type": "markdown",
   "metadata": {},
   "source": [
    "## 3. Create a database from pgadmin."
   ]
  },
  {
   "cell_type": "markdown",
   "metadata": {},
   "source": [
    "## 4. Go to [project]/setting.py adn find ***DATABASES*** dictionary and modify as:"
   ]
  },
  {
   "cell_type": "code",
   "execution_count": null,
   "metadata": {},
   "outputs": [],
   "source": [
    "DATABASES = {\n",
    "    'default':{\n",
    "        'ENGINE':'django.db.backends.postgresql',\n",
    "        'NAME':[DATABASE_NAME], #name of database that you created earlier\n",
    "        'USER':'postgres',\n",
    "        'PASSWORD':[PASSWORD TO YOUR DB], #you set this up when you open pgadmin for thr first time\n",
    "        'HOST':'localhost'\n",
    "    }\n",
    "}"
   ]
  },
  {
   "cell_type": "markdown",
   "metadata": {},
   "source": [
    "## 5. Create model in [PROJECT]/models.py"
   ]
  },
  {
   "cell_type": "markdown",
   "metadata": {},
   "source": [
    "## 6. Make migration.(there must be a model)\n",
    "```console\n",
    "(env) $ python3 manage.py makemigrations\n",
    "```"
   ]
  },
  {
   "cell_type": "markdown",
   "metadata": {},
   "source": [
    "### After migration to see the migration sql query: <br>\n",
    "Syntax: \n",
    "```console\n",
    "(env) $ python3 manage.py sqlmigrate [project_name] [migration number]\n",
    "```\n",
    "Example\n",
    "```console\n",
    "(env) $ python3 manage.py sqlmigrate ecommerce 0001\n",
    "```\n",
    "\n",
    "0001 is a migration file numner created in migration folder after makemigrations\n"
   ]
  },
  {
   "cell_type": "markdown",
   "metadata": {},
   "source": [
    "## 7. Migrate into database\n",
    "```console\n",
    "(env) $ python3 manage.py migrate\n",
    "```"
   ]
  }
 ],
 "metadata": {
  "interpreter": {
   "hash": "aee8b7b246df8f9039afb4144a1f6fd8d2ca17a180786b69acc140d282b71a49"
  },
  "kernelspec": {
   "display_name": "Python 3.9.2 64-bit",
   "name": "python3"
  },
  "language_info": {
   "name": "python",
   "version": ""
  },
  "orig_nbformat": 4
 },
 "nbformat": 4,
 "nbformat_minor": 2
}