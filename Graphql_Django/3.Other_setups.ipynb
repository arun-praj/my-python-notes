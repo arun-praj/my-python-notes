{
 "cells": [
  {
   "cell_type": "markdown",
   "metadata": {},
   "source": [
    "# Admin setup\n",
    "## 1. Create an admin\n",
    "```console \n",
    "(env) $ python3 manage.py createsuperuser\n",
    "```\n",
    "\n",
    "## 2. Register our models in admin\n",
    "Go to [api]/admin.py:"
   ]
  },
  {
   "cell_type": "code",
   "execution_count": null,
   "metadata": {},
   "outputs": [],
   "source": [
    "# admin.py\n",
    "from django.contrib import admin\n",
    "from .models import User\n",
    "\n",
    "#register your models here\n",
    "admin.site.register(User)"
   ]
  },
  {
   "cell_type": "markdown",
   "metadata": {},
   "source": [
    "___"
   ]
  },
  {
   "cell_type": "markdown",
   "metadata": {},
   "source": [
    "# Add media in database\n",
    "[See this video](https://www.youtube.com/watch?v=ExTaxRmDnP8)"
   ]
  }
 ],
 "metadata": {
  "interpreter": {
   "hash": "aee8b7b246df8f9039afb4144a1f6fd8d2ca17a180786b69acc140d282b71a49"
  },
  "kernelspec": {
   "display_name": "Python 3.9.2 64-bit",
   "name": "python3"
  },
  "language_info": {
   "name": "python",
   "version": ""
  },
  "orig_nbformat": 4
 },
 "nbformat": 4,
 "nbformat_minor": 2
}