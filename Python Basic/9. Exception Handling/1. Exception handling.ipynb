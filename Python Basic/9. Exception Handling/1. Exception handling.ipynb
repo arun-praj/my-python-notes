{
 "cells": [
  {
   "cell_type": "markdown",
   "metadata": {},
   "source": [
    "# Python Exception\n",
    "Exception doesnot necessarily means error. Eg. StopIteration exception is not an error."
   ]
  },
  {
   "cell_type": "markdown",
   "metadata": {},
   "source": [
    "## What are exceptions?\n",
    "1. Are objects of Exception class.<br>\n",
    "2. Call Stack is maintained. If exception is not handled in current call it propagates up to caller that is maintained in call stack \n"
   ]
  },
  {
   "cell_type": "markdown",
   "metadata": {},
   "source": [
    "## Categories of exceptions\n",
    "1. Compilation excaption (SyntaxError)\n",
    "2. Execution excaption (ValueError,KeyError,StopIteration)"
   ]
  },
  {
   "cell_type": "markdown",
   "metadata": {},
   "source": [
    "Exceptions are inherited from BaseException Class. But we dont inherit from Base but one of the sabclasses."
   ]
  },
  {
   "cell_type": "markdown",
   "metadata": {},
   "source": [
    "[Exception Hierarchy in python](https://docs.python.org/3/library/exceptions.html#exception-hierarchy)"
   ]
  },
  {
   "cell_type": "markdown",
   "metadata": {},
   "source": [
    "## Basic exception handling\n",
    "```python\n",
    "    try:\n",
    "        something_to_protect_from()\n",
    "        #always use limited code here\n",
    "        # ofter just a single statement eg. open a file, or database\n",
    "    except ValueError: # order of Exception matters\n",
    "        #except ValueError as err:\n",
    "        handle_value_error()\n",
    "    except TypeError:\n",
    "        handle_value_error()\n",
    "    except (ValueError,TypeError) as err;\n",
    "        handle_both_error()\n",
    "    except:\n",
    "        # broad exception that catches all exception\n",
    "        # usually not recommended\n",
    "    finally:\n",
    "        # not required in try except\n",
    "        #always_executes whether exception occured or not\n",
    "    else:\n",
    "        # not required in try except\n",
    "\n",
    "        #will be executed if try block executed normally\n",
    "        #ie. if no exception raised.\n",
    "```"
   ]
  },
  {
   "cell_type": "markdown",
   "metadata": {},
   "source": [
    "## Exception Object\n",
    "Standard exception have at least these properties.\n",
    "\n",
    "args -> argument used to create exception object(ofter error message)\n",
    "\n",
    "__traceback__ -> Trace call stack for easier visualization\n"
   ]
  },
  {
   "cell_type": "markdown",
   "metadata": {},
   "source": [
    "## Handling exception vs Avoiding exception\n",
    "> 'Its easier to ask forgiveness that it is to get permission' - Grace Hopper\n",
    "\n",
    "Meaning execute program then catch the exception then deal with that exception.\n",
    "If we try to avoid exception beforehand we might not know other possible exception.\n",
    "so try, if fail then ask for forgiveness,"
   ]
  },
  {
   "cell_type": "code",
   "execution_count": null,
   "metadata": {},
   "outputs": [],
   "source": []
  }
 ],
 "metadata": {
  "language_info": {
   "name": "python",
   "nbconvert_exporter": "python"
  },
  "orig_nbformat": 4
 },
 "nbformat": 4,
 "nbformat_minor": 2
}