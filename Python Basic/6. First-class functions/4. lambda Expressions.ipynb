{
 "cells": [
  {
   "cell_type": "markdown",
   "metadata": {},
   "source": [
    "## What is lambda expression?"
   ]
  },
  {
   "cell_type": "markdown",
   "metadata": {},
   "source": [
    "### We know that functions are created using def keyword\n",
    "### Lambda expression are jst another way to create function.\n",
    "\n",
    "### <b>Lambda or anonymous function are not closures. Although they can be closures.</b>\n"
   ]
  },
  {
   "cell_type": "markdown",
   "metadata": {},
   "source": [
    "## Syntax\n",
    "```python\n",
    "    lambda [parameter list]:expression\n",
    "\n",
    "```\n",
    "### 1. \" : \" is required ever if there are no parameters. \n",
    "### 2. <b>The lambda expression returns function</b>"
   ]
  },
  {
   "cell_type": "markdown",
   "metadata": {},
   "source": [
    "## Why lambda function?\n",
    "### 1. It can be assigned to a variable\n",
    "### 2. Passed as argument to another function"
   ]
  },
  {
   "cell_type": "markdown",
   "metadata": {},
   "source": [
    "## Examples : \n",
    "\n",
    "```python\n",
    "     lambda x: x**2\n",
    "\n",
    "     lambda x,y : x+y\n",
    "\n",
    "     lambda s: s[::-1].upper()\n",
    "\n",
    "     type(lambda x: x**2)\n",
    "      ## -> function\n",
    "\n",
    "```\n",
    "\n",
    "<b>  Note that these expression are not named. Hence they are called anonymous functions. </b>"
   ]
  },
  {
   "cell_type": "markdown",
   "metadata": {},
   "source": [
    "## Assigning a lambda function to a variable name\n",
    "\n",
    "```python\n",
    "\n",
    "my_func = lambda x:x**2\n",
    "```\n",
    "is same as \n",
    "```python\n",
    "\n",
    "def my_func(x):\n",
    "    return x**2\n",
    "```"
   ]
  },
  {
   "cell_type": "markdown",
   "metadata": {},
   "source": [
    "## Passing as an argument to another function"
   ]
  },
  {
   "cell_type": "code",
   "execution_count": 1,
   "metadata": {},
   "outputs": [
    {
     "data": {
      "text/plain": "4"
     },
     "execution_count": 1,
     "metadata": {},
     "output_type": "execute_result"
    }
   ],
   "source": [
    "def apply_func(x, fxn):\n",
    "    return fxn(x)\n",
    "\n",
    "apply_func(2,lambda x : x**2)"
   ]
  }
 ],
 "metadata": {
  "kernelspec": {
   "display_name": "Python 3.9.2 64-bit",
   "name": "python392jvsc74a57bd0aee8b7b246df8f9039afb4144a1f6fd8d2ca17a180786b69acc140d282b71a49"
  },
  "language_info": {
   "codemirror_mode": {
    "name": "ipython",
    "version": 3
   },
   "file_extension": ".py",
   "mimetype": "text/x-python",
   "name": "python",
   "nbconvert_exporter": "python",
   "pygments_lexer": "ipython3",
   "version": "3.9.2"
  },
  "metadata": {
   "interpreter": {
    "hash": "aee8b7b246df8f9039afb4144a1f6fd8d2ca17a180786b69acc140d282b71a49"
   }
  },
  "orig_nbformat": 2
 },
 "nbformat": 4,
 "nbformat_minor": 2
}