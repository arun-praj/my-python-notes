{
 "cells": [
  {
   "cell_type": "markdown",
   "metadata": {},
   "source": [
    "# Higher order function\n",
    "\n",
    "A function that takes function as parameter and/ or returns functions as its return value.<br>\n",
    "EG. sorted(), map(), reduce()\n",
    "\n",
    "## Better alternatives of map and reduce list list comprehension."
   ]
  },
  {
   "cell_type": "markdown",
   "metadata": {},
   "source": [
    "---"
   ]
  },
  {
   "cell_type": "markdown",
   "metadata": {},
   "source": [
    "## MAP\n",
    "```python\n",
    "map(func,*iterables)\n",
    "```\n",
    "returns iterable"
   ]
  },
  {
   "cell_type": "code",
   "execution_count": 28,
   "metadata": {},
   "outputs": [
    {
     "name": "stdout",
     "output_type": "stream",
     "text": [
      "Using map:  [1, 4, 9, 16, 25]\n",
      "Using list comprehension :  [1, 4, 9, 16, 25]\n"
     ]
    }
   ],
   "source": [
    "my_list = [1,2,3,4,5]\n",
    "\n",
    "print(\"Using map: \",list(map(lambda x:x**2,my_list)))\n",
    "\n",
    "# using list comprehension\n",
    "\n",
    "next_list = [i**2 for i in my_list]\n",
    "print(\"Using list comprehension : \",next_list)"
   ]
  },
  {
   "cell_type": "code",
   "execution_count": 29,
   "metadata": {},
   "outputs": [
    {
     "name": "stdout",
     "output_type": "stream",
     "text": [
      "[14, 24, 16, 128, 58]\n",
      "Using list comprehension :  [14, 24, 16, 128, 58]\n"
     ]
    }
   ],
   "source": [
    "list_1 = [1,2,3,4,5] \n",
    "list_2 = [13,22,13,124,53] \n",
    "\n",
    "\n",
    "print(list(map(lambda x,y:x+y,list_1,list_2)))\n",
    "\n",
    "# using list comprehension\n",
    "\n",
    "my_lst = [x+y for x,y in zip(list_1,list_2)]\n",
    "print(\"Using list comprehension : \",my_lst)\n"
   ]
  },
  {
   "cell_type": "markdown",
   "metadata": {},
   "source": [
    "---"
   ]
  },
  {
   "cell_type": "markdown",
   "metadata": {},
   "source": [
    "## Filter\n",
    "\n",
    "```python\n",
    "filter(func,iterables)\n",
    "```\n",
    "func-> function that takes only one argument\n",
    "iterable->a single iterable\n",
    "\n",
    "## If the function is None, it simply returns the elements of iterable that are Truthy"
   ]
  },
  {
   "cell_type": "code",
   "execution_count": 39,
   "metadata": {},
   "outputs": [
    {
     "name": "stdout",
     "output_type": "stream",
     "text": [
      "[1, 12]\n"
     ]
    }
   ],
   "source": [
    "l = [0,0,1,None,12]\n",
    "\n",
    "list(filter(None,l))\n",
    "\n",
    "# using list comprehension\n",
    "\n",
    "lst = [ i for i in l if(bool(i)) ]\n",
    "print(lst)\n"
   ]
  },
  {
   "cell_type": "code",
   "execution_count": 40,
   "metadata": {},
   "outputs": [
    {
     "name": "stdout",
     "output_type": "stream",
     "text": [
      "[0, 0, 12]\n"
     ]
    }
   ],
   "source": [
    "l = [0,0,1,12]\n",
    "\n",
    "def is_even(x):\n",
    "    return x%2 == 0\n",
    "list(filter(is_even,l))\n",
    "\n",
    "# using list comprehension\n",
    "lst = [ i for i in l if(i%2==0) ]\n",
    "print(lst)\n"
   ]
  },
  {
   "cell_type": "markdown",
   "metadata": {},
   "source": [
    "---"
   ]
  },
  {
   "cell_type": "markdown",
   "metadata": {},
   "source": [
    "## Combining both map and filter using list comprehension\n"
   ]
  },
  {
   "cell_type": "code",
   "execution_count": 49,
   "metadata": {},
   "outputs": [
    {
     "name": "stdout",
     "output_type": "stream",
     "text": [
      "[0, 1, 4, 9, 16]\n"
     ]
    }
   ],
   "source": [
    "\n",
    "l = [i**2 for i in range(10) if i**2<=23]\n",
    "print(l)"
   ]
  },
  {
   "cell_type": "markdown",
   "metadata": {},
   "source": [
    "---"
   ]
  },
  {
   "cell_type": "markdown",
   "metadata": {},
   "source": []
  },
  {
   "cell_type": "markdown",
   "metadata": {},
   "source": [
    "## Zip\n",
    " Take no of iterables and returns single iterables\n"
   ]
  },
  {
   "cell_type": "code",
   "execution_count": 18,
   "metadata": {},
   "outputs": [
    {
     "data": {
      "text/plain": "[(1, 2, 'p'), (3, 4, 'y'), (5, 6, 't'), (7, 8, 'h'), (9, 0, 'o')]"
     },
     "execution_count": 18,
     "metadata": {},
     "output_type": "execute_result"
    }
   ],
   "source": [
    "l1 = [1,3,5,7,9]\n",
    "l2 = [2,4,6,8,0]\n",
    "l3 = \"python\"\n",
    "\n",
    "list(zip(l1,l2,l3))\n"
   ]
  },
  {
   "cell_type": "markdown",
   "metadata": {},
   "source": [
    "## use when we need to read index of a list"
   ]
  },
  {
   "cell_type": "code",
   "execution_count": 21,
   "metadata": {},
   "outputs": [
    {
     "data": {
      "text/plain": "[('M', 0),\n ('t', 1),\n (' ', 2),\n ('E', 3),\n ('v', 4),\n ('e', 5),\n ('r', 6),\n ('e', 7),\n ('s', 8),\n ('t', 9)]"
     },
     "execution_count": 21,
     "metadata": {},
     "output_type": "execute_result"
    }
   ],
   "source": [
    "l1 = \"Mt Everest\"\n",
    "l2 = range(100)\n",
    "list(zip(l1,l2))"
   ]
  }
 ],
 "metadata": {
  "interpreter": {
   "hash": "aee8b7b246df8f9039afb4144a1f6fd8d2ca17a180786b69acc140d282b71a49"
  },
  "kernelspec": {
   "display_name": "Python 3.9.2 64-bit",
   "name": "python3"
  },
  "language_info": {
   "codemirror_mode": {
    "name": "ipython",
    "version": 3
   },
   "file_extension": ".py",
   "mimetype": "text/x-python",
   "name": "python",
   "nbconvert_exporter": "python",
   "pygments_lexer": "ipython3",
   "version": "3.9.2"
  },
  "orig_nbformat": 2
 },
 "nbformat": 4,
 "nbformat_minor": 2
}