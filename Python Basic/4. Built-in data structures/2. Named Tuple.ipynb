{
 "cells": [
  {
   "cell_type": "markdown",
   "metadata": {},
   "source": [
    "# Why named tuple?\n",
    "Inorder to make thing clearer for the reader (not the compiler, for reader) we might want to approach tuple using a class  or Named tuple instead."
   ]
  },
  {
   "cell_type": "markdown",
   "metadata": {},
   "source": [
    "___"
   ]
  },
  {
   "cell_type": "markdown",
   "metadata": {},
   "source": [
    "# Using class"
   ]
  },
  {
   "cell_type": "code",
   "execution_count": 3,
   "metadata": {},
   "outputs": [
    {
     "name": "stdout",
     "output_type": "stream",
     "text": [
      "22.360679774997898\n"
     ]
    }
   ],
   "source": [
    "from math import sqrt\n",
    "coord = 10,20\n",
    "\n",
    "dist = sqrt(coord[0]**2 + coord[1]**2)\n",
    "print(dist)"
   ]
  },
  {
   "cell_type": "markdown",
   "metadata": {},
   "source": [
    "### The above is not readable for a programmer(because object are accessed using poistion), instead we can implement these concept using class.\n",
    "### Below program is more readable so behind the schene named tuple is implemented this way."
   ]
  },
  {
   "cell_type": "code",
   "execution_count": 5,
   "metadata": {},
   "outputs": [
    {
     "name": "stdout",
     "output_type": "stream",
     "text": [
      "22.360679774997898\n"
     ]
    }
   ],
   "source": [
    "class Point:\n",
    "    def __init__(self,x,y):\n",
    "        self.x = x\n",
    "        self.y = y\n",
    "\n",
    "coord = Point(10,20)\n",
    "dist = sqrt(coord.x**2 + coord.y**2)\n",
    "print(dist)"
   ]
  },
  {
   "cell_type": "markdown",
   "metadata": {},
   "source": [
    "# Why not to use class for this."
   ]
  },
  {
   "cell_type": "markdown",
   "metadata": {},
   "source": [
    "### 1. But it becomes harder if we implement by using class. If there are more attributes then it actually gets harder (we might also need to implement methods such as \"__repr__\" or __eq__ methods which makes it even harder). So at that time use named Tuple\n",
    "### 2. Tuples are immputable but instances of classes are mutable"
   ]
  },
  {
   "cell_type": "markdown",
   "metadata": {},
   "source": [
    "___"
   ]
  },
  {
   "cell_type": "markdown",
   "metadata": {},
   "source": [
    "# Named Tuples\n",
    "### Named tuples are the combination of two approaches.\n",
    "### -> Creating tuple where we can, in addition, give meaningful names to the positions."
   ]
  },
  {
   "cell_type": "markdown",
   "metadata": {},
   "source": [
    "### 1. Named tuples are subclasses of Tuple class.\n",
    "### 2. Add a layer to assign property names to the positional objects.\n",
    "### 3. Located in the collection standart module library."
   ]
  },
  {
   "cell_type": "markdown",
   "metadata": {},
   "source": [
    "## Syntax"
   ]
  },
  {
   "cell_type": "markdown",
   "metadata": {},
   "source": [
    "```python\n",
    "namedtuple(typename: str, field_names: Union[str, Iterable[str]], *, rename: bool, module: str) -> tuple\n",
    "Returns a new subclass of tuple with named fields.\n",
    "\n",
    ">>> Point = namedtuple('Point', ['x', 'y'])\n",
    ">>> Point.__doc__                   # docstring for the new class\n",
    "'Point(x, y)'\n",
    ">>> p = Point(11, y=22)             # instantiate with positional args or keywords\n",
    ">>> p[0] + p[1]                     # indexable like a plain tuple\n",
    "33\n",
    ">>> x, y = p                        # unpack like a regular tuple\n",
    ">>> x, y\n",
    "(11, 22)\n",
    ">>> p.x + p.y                       # fields also accessible by name\n",
    "33\n",
    ">>> d = p._asdict()                 # convert to a dictionary\n",
    ">>> d['x']\n",
    "11\n",
    ">>> Point(**d)                      # convert from a dictionary\n",
    "Point(x=11, y=22)\n",
    ">>> p._replace(x=100)               # _replace() is like str.replace() but targets named fields\n",
    "Point(x=100, y=22)\n",
    "```"
   ]
  },
  {
   "cell_type": "code",
   "execution_count": 15,
   "metadata": {},
   "outputs": [
    {
     "name": "stdout",
     "output_type": "stream",
     "text": [
      "22.360679774997898\n"
     ]
    }
   ],
   "source": [
    "import math\n",
    "from collections import namedtuple\n",
    "\n",
    "Point = namedtuple(\"Point\",['x','y'],rename=True)\n",
    "# rename = True , automatically renames int invalid field name\n",
    "# for eg: ['x','123'] is set to ['x','_123'] so we cannot start the field \n",
    "# name with underscore ourselves because python uses it to rename invalid field name.\n",
    "p=Point(10,20)\n",
    "\n",
    "# we can use positional argument\n",
    "#p=Point(x = 10,y = 20)\n",
    "\n",
    "dist = math.sqrt(p.x**2 + p.y**2)\n",
    "\n",
    "# can also access using position.\n",
    "#ist = math.sqrt(p[0]**2 + p[1]**2)\n",
    "\n",
    "print(dist)\n",
    "# print(globals.__module__)"
   ]
  },
  {
   "cell_type": "markdown",
   "metadata": {},
   "source": [
    "### 1. namedtuple is a function that generates the class.(class factory) that inherits from the tuple class.\n",
    "### 2. Since namedtuple returns tuple therefore it is immutable.\n",
    "```python \n",
    "point.x = 100 wont work\n",
    "```\n",
    "### 3. namedtuple function returns a subclass of Tuple \n",
    "---\n",
    "## Accesing data in named Tuple\n",
    "Since namedtuple are alse regular tuples,so we can access them like any other tuple.\n",
    "1. by position\n",
    "2. slicing\n",
    "3. iterate\n",
    "\n"
   ]
  },
  {
   "cell_type": "markdown",
   "metadata": {},
   "source": [
    "---"
   ]
  },
  {
   "cell_type": "markdown",
   "metadata": {},
   "source": [
    "# How it works behind the schene."
   ]
  },
  {
   "cell_type": "markdown",
   "metadata": {},
   "source": [
    "### Consider the following:\n",
    "```python\n",
    "Point = namedtuple(\"Point\",['x','y'])\n",
    "```"
   ]
  },
  {
   "cell_type": "markdown",
   "metadata": {},
   "source": [
    "### Python first creates an object of class in memory named Point. and in addition python also creates a Point variable in its scope and point  to Point class object.\n",
    "\n",
    "### Similarly"
   ]
  },
  {
   "cell_type": "code",
   "execution_count": 10,
   "metadata": {},
   "outputs": [],
   "source": [
    "Point_alias = namedtuple('Point',['x','y'])\n"
   ]
  },
  {
   "cell_type": "markdown",
   "metadata": {},
   "source": [
    "---"
   ]
  },
  {
   "cell_type": "markdown",
   "metadata": {},
   "source": [
    "## There are many ways we can provide the list of field names to the namedtuple fucntion.\n",
    "1. a list of string\n",
    "2. a tuple of strings\n",
    "3. a string with the field names saperated by whitespace or commas."
   ]
  },
  {
   "cell_type": "code",
   "execution_count": 11,
   "metadata": {},
   "outputs": [
    {
     "data": {
      "text/plain": "__main__.Point"
     },
     "execution_count": 11,
     "metadata": {},
     "output_type": "execute_result"
    }
   ],
   "source": [
    "namedtuple('Point',['x','y'])\n",
    "namedtuple('Point',('x','y'))\n",
    "namedtuple('Point',\"x,y\")\n",
    "namedtuple('Point',\"x y\")"
   ]
  },
  {
   "cell_type": "markdown",
   "metadata": {},
   "source": [
    "# Introspection\n",
    "1. We can easily find out the field names in a named tuple generated class"
   ]
  },
  {
   "cell_type": "code",
   "execution_count": 22,
   "metadata": {},
   "outputs": [
    {
     "data": {
      "text/plain": "('name', 'age', '_2')"
     },
     "execution_count": 22,
     "metadata": {},
     "output_type": "execute_result"
    }
   ],
   "source": [
    "from collections import namedtuple\n",
    "Person = namedtuple(\"Person\",['name','age',2],rename=True)\n",
    "Person._fields\n"
   ]
  },
  {
   "cell_type": "markdown",
   "metadata": {},
   "source": [
    "2. Extracting named value to a dictionary."
   ]
  },
  {
   "cell_type": "code",
   "execution_count": 25,
   "metadata": {},
   "outputs": [
    {
     "name": "stdout",
     "output_type": "stream",
     "text": [
      "{'name': 'Arun', 'age': 23, '_2': None}\n"
     ]
    }
   ],
   "source": [
    "p = Person(name=\"Arun\",age=23,_2 = None)\n",
    "p_dict = p._asdict()\n",
    "print(p_dict)"
   ]
  }
 ],
 "metadata": {
  "interpreter": {
   "hash": "aee8b7b246df8f9039afb4144a1f6fd8d2ca17a180786b69acc140d282b71a49"
  },
  "kernelspec": {
   "display_name": "Python 3.9.2 64-bit",
   "name": "python3"
  },
  "language_info": {
   "name": "python",
   "version": ""
  },
  "orig_nbformat": 2
 },
 "nbformat": 4,
 "nbformat_minor": 2
}