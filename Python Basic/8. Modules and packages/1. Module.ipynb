{
 "cells": [
  {
   "cell_type": "markdown",
   "metadata": {},
   "source": [
    "# Module"
   ]
  },
  {
   "cell_type": "markdown",
   "metadata": {},
   "source": [
    "# What is module?\n",
    "module are the instances of module type just like a function is of function type."
   ]
  },
  {
   "cell_type": "code",
   "execution_count": 6,
   "metadata": {},
   "outputs": [
    {
     "name": "stdout",
     "output_type": "stream",
     "text": [
      "<class 'module'>\n",
      "<module 'math' from '/Library/Frameworks/Python.framework/Versions/3.9/lib/python3.9/lib-dynload/math.cpython-39-darwin.so'>\n"
     ]
    }
   ],
   "source": [
    "import math # math is a module\n",
    "print(type(math))\n",
    "print(math)"
   ]
  },
  {
   "cell_type": "markdown",
   "metadata": {},
   "source": [
    "# Namespaces\n",
    " A namespace is a collection of currently defined symbolic names along with information about the object that each name references.<br> You can think of a namespace as a dictionary in which the keys are the object names and the values are the objects themselves."
   ]
  },
  {
   "cell_type": "markdown",
   "metadata": {},
   "source": [
    "```python\n",
    "globals() \n",
    "```\n",
    "gives the dictionary containing the current scope's  global variable"
   ]
  },
  {
   "cell_type": "code",
   "execution_count": 11,
   "metadata": {},
   "outputs": [
    {
     "name": "stdout",
     "output_type": "stream",
     "text": [
      "A function\n"
     ]
    }
   ],
   "source": [
    "def func():\n",
    "    print(\"A function\")\n",
    "\n",
    "globals()['func']()"
   ]
  },
  {
   "cell_type": "markdown",
   "metadata": {},
   "source": [
    "```python\n",
    "locals()\n",
    "```\n",
    "gives the dictionary containing the current scope's  local variable\n"
   ]
  },
  {
   "cell_type": "code",
   "execution_count": 13,
   "metadata": {},
   "outputs": [
    {
     "data": {
      "text/plain": "True"
     },
     "execution_count": 13,
     "metadata": {},
     "output_type": "execute_result"
    }
   ],
   "source": [
    "locals() is globals() # since locals point to global namespace"
   ]
  },
  {
   "cell_type": "code",
   "execution_count": 16,
   "metadata": {},
   "outputs": [
    {
     "name": "stdout",
     "output_type": "stream",
     "text": [
      "{'a': 2, 'b': 3}\n"
     ]
    }
   ],
   "source": [
    "def func():\n",
    "    a = 2\n",
    "    b = 3\n",
    "    print(locals())\n",
    "func()"
   ]
  },
  {
   "cell_type": "markdown",
   "metadata": {},
   "source": [
    "---"
   ]
  },
  {
   "cell_type": "markdown",
   "metadata": {},
   "source": [
    "# What really happens when we import packages"
   ]
  },
  {
   "cell_type": "markdown",
   "metadata": {},
   "source": [
    "When we import an module it adds the module in current namespace.ie, global or local namespace and also module is added into system cache."
   ]
  },
  {
   "cell_type": "code",
   "execution_count": 7,
   "metadata": {},
   "outputs": [],
   "source": [
    "import math\n",
    "import fractions\n",
    "\n",
    "#globals()\n"
   ]
  },
  {
   "cell_type": "markdown",
   "metadata": {},
   "source": [
    "### so when we import module twice it checks in that namespace if found then it wont import it again."
   ]
  },
  {
   "cell_type": "markdown",
   "metadata": {},
   "source": []
  },
  {
   "cell_type": "code",
   "execution_count": 14,
   "metadata": {},
   "outputs": [
    {
     "name": "stdout",
     "output_type": "stream",
     "text": [
      "{'math': <module 'math' from '/Library/Frameworks/Python.framework/Versions/3.9/lib/python3.9/lib-dynload/math.cpython-39-darwin.so'>}\n"
     ]
    }
   ],
   "source": [
    "def func():\n",
    "    import math\n",
    "    import math\n",
    "    print(locals())\n",
    "func()"
   ]
  },
  {
   "cell_type": "markdown",
   "metadata": {},
   "source": [
    "# System cache"
   ]
  },
  {
   "cell_type": "code",
   "execution_count": 6,
   "metadata": {},
   "outputs": [
    {
     "name": "stdout",
     "output_type": "stream",
     "text": [
      "True\n"
     ]
    }
   ],
   "source": [
    "import sys\n",
    "import math\n",
    "#sys.modules\n",
    "# since it is juypter notebook it will print its module too.\n",
    "type(sys.modules)\n",
    "\n",
    "\n",
    "print(sys.modules['math']is math)"
   ]
  },
  {
   "cell_type": "code",
   "execution_count": 8,
   "metadata": {},
   "outputs": [],
   "source": [
    "#math.__dict__"
   ]
  },
  {
   "cell_type": "markdown",
   "metadata": {},
   "source": [
    "___"
   ]
  },
  {
   "cell_type": "markdown",
   "metadata": {},
   "source": [
    "# How does python import module? "
   ]
  },
  {
   "cell_type": "markdown",
   "metadata": {},
   "source": [
    "When we run a statement\n",
    "```python\n",
    "import fraction\n",
    "```\n",
    "\n",
    "The first thing to note is that Python os doing the import at run time.ie, while your code is actually running.\n",
    "<br>\n",
    "This is different from traditional compiled language such as C where modules are compiled and linked at compile time.\n",
    "<br>In both cases, the system needs to know where those code files exists."
   ]
  },
  {
   "cell_type": "markdown",
   "metadata": {},
   "source": [
    "## At high level, this is how python imports a module from file: "
   ]
  },
  {
   "cell_type": "markdown",
   "metadata": {},
   "source": [
    "1. Checks the sys.modules cache if the module has already been imported. If so simply uses the reference in there and add to the current namespace.(Local or global scope.)"
   ]
  },
  {
   "cell_type": "code",
   "execution_count": 15,
   "metadata": {},
   "outputs": [
    {
     "name": "stdout",
     "output_type": "stream",
     "text": [
      "{'math': <module 'math' from '/Library/Frameworks/Python.framework/Versions/3.9/lib/python3.9/lib-dynload/math.cpython-39-darwin.so'>, 'a': 1, 'b': 2}\n"
     ]
    }
   ],
   "source": [
    "import math\n",
    "import fractions\n",
    "\n",
    "#globals()\n",
    "\n",
    "def func():\n",
    "    import math\n",
    "    a = 1\n",
    "    b = 2\n",
    "    print(locals())\n",
    "func()"
   ]
  },
  {
   "cell_type": "markdown",
   "metadata": {},
   "source": [
    "2. If not found then creates a new module object(types.moduletype)\n",
    "3. loads the source code from file.\n",
    "4. adds an entry to sys.modules  with the name as key and the address as value\n",
    "5. Compiles and executes the source code"
   ]
  },
  {
   "cell_type": "markdown",
   "metadata": {},
   "source": [
    "## The sys module has a few properties that defines where python is going to look for modules.(Either built-in pr standard library as well as own 3rd party)"
   ]
  },
  {
   "cell_type": "markdown",
   "metadata": {},
   "source": [
    "### For example to see where python is installed"
   ]
  },
  {
   "cell_type": "code",
   "execution_count": 9,
   "metadata": {},
   "outputs": [
    {
     "data": {
      "text/plain": "'/Library/Frameworks/Python.framework/Versions/3.9'"
     },
     "execution_count": 9,
     "metadata": {},
     "output_type": "execute_result"
    }
   ],
   "source": [
    "import sys\n",
    "sys.prefix"
   ]
  },
  {
   "cell_type": "markdown",
   "metadata": {},
   "source": [
    "### Where are the compiled C binaries located?"
   ]
  },
  {
   "cell_type": "code",
   "execution_count": 10,
   "metadata": {},
   "outputs": [
    {
     "data": {
      "text/plain": "'/Library/Frameworks/Python.framework/Versions/3.9'"
     },
     "execution_count": 10,
     "metadata": {},
     "output_type": "execute_result"
    }
   ],
   "source": [
    "sys.exec_prefix"
   ]
  },
  {
   "cell_type": "markdown",
   "metadata": {},
   "source": [
    "## The prefix changes for virtual environments."
   ]
  },
  {
   "cell_type": "code",
   "execution_count": 11,
   "metadata": {},
   "outputs": [
    {
     "data": {
      "text/plain": "['/Users/arunprajapati/Desktop/my-python-notes/Python Basic/8. Modules and packages',\n '/Users/arunprajapati/.vscode-insiders/extensions/ms-toolsai.jupyter-2021.6.863311888/pythonFiles',\n '/Users/arunprajapati/.vscode-insiders/extensions/ms-toolsai.jupyter-2021.6.863311888/pythonFiles',\n '/Users/arunprajapati/.vscode-insiders/extensions/ms-toolsai.jupyter-2021.6.863311888/pythonFiles/lib/python',\n '/Library/Frameworks/Python.framework/Versions/3.9/lib/python39.zip',\n '/Library/Frameworks/Python.framework/Versions/3.9/lib/python3.9',\n '/Library/Frameworks/Python.framework/Versions/3.9/lib/python3.9/lib-dynload',\n '',\n '/Users/arunprajapati/Library/Python/3.9/lib/python/site-packages',\n '/Library/Frameworks/Python.framework/Versions/3.9/lib/python3.9/site-packages',\n '/Users/arunprajapati/Library/Python/3.9/lib/python/site-packages/IPython/extensions',\n '/Users/arunprajapati/.ipython']"
     },
     "execution_count": 11,
     "metadata": {},
     "output_type": "execute_result"
    }
   ],
   "source": [
    "sys.path"
   ]
  },
  {
   "cell_type": "markdown",
   "metadata": {},
   "source": [
    "## 1.  Python looks for module in these paths. If module is not found then import fails.\n",
    "## 2. so if you ever run into problem look in sys.path.\n",
    "## 3. You can also add custom module in this path.but not recommend doing that."
   ]
  },
  {
   "cell_type": "markdown",
   "metadata": {},
   "source": [
    "# One thing thats really to important is that when a module is imported, the module code is executed."
   ]
  }
 ],
 "metadata": {
  "interpreter": {
   "hash": "aee8b7b246df8f9039afb4144a1f6fd8d2ca17a180786b69acc140d282b71a49"
  },
  "kernelspec": {
   "display_name": "Python 3.9.2 64-bit",
   "name": "python3"
  },
  "language_info": {
   "codemirror_mode": {
    "name": "ipython",
    "version": 3
   },
   "file_extension": ".py",
   "mimetype": "text/x-python",
   "name": "python",
   "nbconvert_exporter": "python",
   "pygments_lexer": "ipython3",
   "version": "3.9.2"
  },
  "orig_nbformat": 2
 },
 "nbformat": 4,
 "nbformat_minor": 2
}