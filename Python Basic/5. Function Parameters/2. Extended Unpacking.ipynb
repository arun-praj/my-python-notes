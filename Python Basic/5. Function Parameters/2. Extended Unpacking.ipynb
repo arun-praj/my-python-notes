{
 "cells": [
  {
   "cell_type": "markdown",
   "metadata": {},
   "source": [
    "# Extending unpacking\n",
    "Sometimes we may want only certain elemen from a iterables."
   ]
  },
  {
   "cell_type": "markdown",
   "metadata": {},
   "source": [
    "## For example: Unpacking 1st element"
   ]
  },
  {
   "cell_type": "code",
   "execution_count": 24,
   "metadata": {},
   "outputs": [
    {
     "name": "stdout",
     "output_type": "stream",
     "text": [
      "1\n",
      "[2, 3, 4]\n",
      "1 2 3 4\n"
     ]
    }
   ],
   "source": [
    " l = [1,2,3,4]\n",
    " a,*l = l\n",
    " print(a)\n",
    " print(l)\n",
    " \n",
    " # nested unpacking\n",
    " s = [1,2,[3,4]]\n",
    " q,h,(e,r) = s\n",
    " print(q,h,e,r)"
   ]
  },
  {
   "cell_type": "markdown",
   "metadata": {},
   "source": [
    "This can be applied to any other iterables.<br>\n",
    "Slicing also can be used instead of this. "
   ]
  },
  {
   "cell_type": "markdown",
   "metadata": {},
   "source": [
    "```python\n",
    "    a,*b,*c = [1,2,3] is wrong\n",
    "    # only one * is allowed in lHS, but\n",
    "    a,*b,(c,*d) = [1,2,(\"Hello world\")] # is allowed\n",
    "```"
   ]
  },
  {
   "cell_type": "markdown",
   "metadata": {},
   "source": [
    "## Using with unordered iterables\n",
    "### Concatinate dict or list"
   ]
  },
  {
   "cell_type": "code",
   "execution_count": 3,
   "metadata": {},
   "outputs": [
    {
     "name": "stdout",
     "output_type": "stream",
     "text": [
      "{1, 2, 3, 4, 5, 6}\n"
     ]
    }
   ],
   "source": [
    "l1 = {1,2,3}\n",
    "l2 = {4,5,6}\n",
    "l3 = {*l1,*l2}\n",
    "print(l3)"
   ]
  },
  {
   "cell_type": "code",
   "execution_count": 6,
   "metadata": {},
   "outputs": [
    {
     "name": "stdout",
     "output_type": "stream",
     "text": [
      "[[1, 2, 3], [4, 5, 6]]\n",
      "[1, 2, 3, 4, 5, 6]\n"
     ]
    }
   ],
   "source": [
    "l1 = [1,2,3]\n",
    "l2 = [4,5,6]\n",
    "l3 = [l1,l2]\n",
    "l4 = [*l1,*l2]\n",
    "print(l3)\n",
    "print(l4)"
   ]
  },
  {
   "cell_type": "markdown",
   "metadata": {},
   "source": [
    "## Unpacking Dictionaries\n",
    "Used in merge dictionaries"
   ]
  },
  {
   "cell_type": "markdown",
   "metadata": {},
   "source": [
    "If we want keys only then : "
   ]
  },
  {
   "cell_type": "code",
   "execution_count": 9,
   "metadata": {},
   "outputs": [
    {
     "name": "stdout",
     "output_type": "stream",
     "text": [
      "k1\n",
      "['k2', 'k3']\n"
     ]
    }
   ],
   "source": [
    "d1 = {\n",
    "    \"k1\":1,\n",
    "    \"k2\":12,\n",
    "    \"k3\":122,\n",
    "}\n",
    "\n",
    "# extract all keys\n",
    "a,*b = d1\n",
    "print(a)\n",
    "print(b)"
   ]
  },
  {
   "cell_type": "markdown",
   "metadata": {},
   "source": [
    "For both key and value we need to use '**'\n",
    "<br>Note: \" ** \" operator can only be used in RHS."
   ]
  },
  {
   "cell_type": "code",
   "execution_count": 15,
   "metadata": {},
   "outputs": [
    {
     "name": "stdout",
     "output_type": "stream",
     "text": [
      "{'k1': 12, 'k2': 123, 'k3': 122, 'k5': 1222}\n"
     ]
    }
   ],
   "source": [
    "d1 = {\n",
    "    \"k1\":1,\n",
    "    \"k2\":12,\n",
    "    \"k3\":122,\n",
    "}\n",
    "d2 = {\n",
    "    \"k1\":12,\n",
    "    \"k2\":123,\n",
    "    \"k5\":1222,\n",
    "}\n",
    "\n",
    "d = {**d1,**d2}\n",
    "print(d)"
   ]
  },
  {
   "cell_type": "markdown",
   "metadata": {},
   "source": [
    "Since there is no duplication, the key value is overwritten by latest pair."
   ]
  },
  {
   "cell_type": "code",
   "execution_count": 20,
   "metadata": {},
   "outputs": [
    {
     "name": "stdout",
     "output_type": "stream",
     "text": [
      "{1, 2, 3, 'a'}\n"
     ]
    }
   ],
   "source": [
    "set1 = {1,2,3}\n",
    "dict1 = {\n",
    "    \"a\":\"A\"\n",
    "}\n",
    "s = {*set1,*dict1}\n",
    "print(s)"
   ]
  }
 ],
 "metadata": {
  "interpreter": {
   "hash": "aee8b7b246df8f9039afb4144a1f6fd8d2ca17a180786b69acc140d282b71a49"
  },
  "kernelspec": {
   "display_name": "Python 3.9.2 64-bit",
   "name": "python3"
  },
  "language_info": {
   "name": "python",
   "version": ""
  },
  "orig_nbformat": 2
 },
 "nbformat": 4,
 "nbformat_minor": 2
}