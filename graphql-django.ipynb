{
 "cells": [
  {
   "cell_type": "markdown",
   "metadata": {},
   "source": [
    "# How to build server using graphql, django and postgres.\n",
    "---\n",
    "---"
   ]
  },
  {
   "cell_type": "markdown",
   "metadata": {},
   "source": [
    "# 1. Project Setup"
   ]
  },
  {
   "cell_type": "markdown",
   "metadata": {},
   "source": [
    "## a. Create a virtual environment\n",
    "```console\n",
    "$ python3 -m venv [name of env]\n",
    "$ cd [name of env]\n",
    "```\n",
    "\n",
    "On windows \n",
    "```console\n",
    "$ Scripts\\activate\n",
    "```\n",
    "\n",
    "On Mac or unix \n",
    "```console\n",
    "$ source bin\\activate\n",
    "```"
   ]
  },
  {
   "cell_type": "markdown",
   "metadata": {},
   "source": [
    "### To confirm you are in venv.\n",
    "On Windows\n",
    "```console\n",
    "$ where python\n",
    "```\n",
    "On macOS or unix\n",
    "```console\n",
    "$ which python\n",
    "```\n",
    "\n",
    "Output should be: .../env/bin/python instead of .../bin/python"
   ]
  },
  {
   "cell_type": "markdown",
   "metadata": {},
   "source": [
    "### Leaving the virtual environment\n",
    "```console\n",
    "$ deactivate\n",
    "```"
   ]
  },
  {
   "cell_type": "markdown",
   "metadata": {},
   "source": [
    "---"
   ]
  },
  {
   "cell_type": "markdown",
   "metadata": {},
   "source": [
    "## b. Install the dependencies"
   ]
  },
  {
   "cell_type": "markdown",
   "metadata": {},
   "source": [
    "```console\n",
    "(env) $ pip install django graphene-django\n",
    "```"
   ]
  },
  {
   "cell_type": "markdown",
   "metadata": {},
   "source": [
    "### (OPTIONAL) \n",
    "### i. To use postgresql instead of Sqlite\n",
    "\n",
    "```console\n",
    "(env) $ pip install psycopg2-binary\n",
    "```\n",
    "Module to connect postgres and django\n",
    "### ii. Install postgres\n",
    "### iii. pgadmin comes with postgres. If not then install it manually"
   ]
  },
  {
   "cell_type": "markdown",
   "metadata": {},
   "source": []
  },
  {
   "cell_type": "markdown",
   "metadata": {},
   "source": [
    "# 2. Django Setup"
   ]
  },
  {
   "cell_type": "markdown",
   "metadata": {},
   "source": [
    "### a. Create a django project\n",
    "```console\n",
    "(env) $ django-admin startproject [project_name_api]\n",
    "```\n",
    "### b. Change directory to the project\n",
    "```console\n",
    "(env) $ cd [project_name_api]\n",
    "```\n",
    "### c. Create an api in the project\n",
    "```console\n",
    "(env) $ python3 manage.py startapp api\n",
    "```\n",
    "### d. Next register the 'api' app and integreate the 'graphene-django' third party app we installed earlier into our [project_name_api] project.\n",
    "### find INSTALLED_APPS list in [project_name_api]/settings.py and add api and graphene-django apps.\n",
    "```python\n",
    "INSTALLED_APPS= [\n",
    "    ...,\n",
    "    'api',\n",
    "    'graphene-django'\n",
    "]\n",
    "```\n",
    "### e. While in [project_name_api]/settings.py, go to the bottom of the file and add a GRAPHENE dictionary with settings for the graphene-django package:\n",
    "```python\n",
    "GRAPHENE = {   \n",
    "    \"SCHEMA\": \"api.schema.schema\"\n",
    "}\n",
    "```\n",
    "### f. Next add the graphQL endpoint at the end of the urlpatterns dict in file [project_name_api]/urls.py:"
   ]
  },
  {
   "cell_type": "code",
   "execution_count": null,
   "metadata": {},
   "outputs": [],
   "source": [
    "from django.contrib import admin\n",
    "from django.urls import path\n",
    "from graphene_django.views import GraphQLView\n",
    "\n",
    "urlpatterns = [\n",
    "    path('admin/', admin.site.urls),\n",
    "    path('graphql', GraphQLView.as_view(graphiql=True)),\n",
    "]"
   ]
  },
  {
   "cell_type": "markdown",
   "metadata": {},
   "source": [
    "### g. Write you model and schema.(Wont be covered in this notebook)\n",
    "### h. Start a django server.\n",
    "```console\n",
    "(env) $ python3 manage.py runserver\n",
    "```"
   ]
  }
 ],
 "metadata": {
  "interpreter": {
   "hash": "aee8b7b246df8f9039afb4144a1f6fd8d2ca17a180786b69acc140d282b71a49"
  },
  "kernelspec": {
   "display_name": "Python 3.9.2 64-bit",
   "name": "python3"
  },
  "language_info": {
   "name": "python",
   "version": ""
  },
  "orig_nbformat": 4
 },
 "nbformat": 4,
 "nbformat_minor": 2
}