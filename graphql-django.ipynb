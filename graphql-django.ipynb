{
 "cells": [
  {
   "cell_type": "markdown",
   "metadata": {},
   "source": [
    "# How to build server using graphql, django and postgres.\n",
    "---\n",
    "---"
   ]
  },
  {
   "cell_type": "markdown",
   "metadata": {},
   "source": [
    "# 1. Project Setup"
   ]
  },
  {
   "cell_type": "markdown",
   "metadata": {},
   "source": [
    "## a. Create an virtual environment\n",
    "```console\n",
    "$ python3 -m venv [name of env]\n",
    "$ cd [name of env]\n",
    "```\n",
    "\n",
    "On windows \n",
    "```console\n",
    "$ Scripts\\activate\n",
    "```\n",
    "\n",
    "On Mac or unix \n",
    "```console\n",
    "$ source bin\\activate\n",
    "```"
   ]
  },
  {
   "cell_type": "markdown",
   "metadata": {},
   "source": [
    "### To confirm you are in venv.\n",
    "On Windows\n",
    "```console\n",
    "$ where python\n",
    "```\n",
    "On macOS or unix\n",
    "```console\n",
    "$ which python\n",
    "```\n",
    "\n",
    "Output should be: .../env/bin/python instead of .../bin/python"
   ]
  },
  {
   "cell_type": "markdown",
   "metadata": {},
   "source": [
    "### Leaving the virtual environment\n",
    "```console\n",
    "$ deactivate\n",
    "```"
   ]
  },
  {
   "cell_type": "markdown",
   "metadata": {},
   "source": [
    "---"
   ]
  },
  {
   "cell_type": "markdown",
   "metadata": {},
   "source": [
    "## b. Install the dependencies"
   ]
  },
  {
   "cell_type": "markdown",
   "metadata": {},
   "source": [
    "```console\n",
    "(env) $ pip install django graphene-django\n",
    "```"
   ]
  },
  {
   "cell_type": "markdown",
   "metadata": {},
   "source": [
    "## (OPTIONAL) \n",
    "## i. To use postgresql instead of Sqlite\n",
    "\n",
    "```console\n",
    "(env) $ pip install psycopg2-binary\n",
    "```\n",
    "Module to connect postgres and django"
   ]
  }
 ],
 "metadata": {
  "interpreter": {
   "hash": "aee8b7b246df8f9039afb4144a1f6fd8d2ca17a180786b69acc140d282b71a49"
  },
  "kernelspec": {
   "display_name": "Python 3.9.2 64-bit",
   "name": "python3"
  },
  "language_info": {
   "name": "python",
   "version": ""
  },
  "orig_nbformat": 4
 },
 "nbformat": 4,
 "nbformat_minor": 2
}