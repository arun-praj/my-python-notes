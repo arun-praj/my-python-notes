{
 "cells": [
  {
   "cell_type": "markdown",
   "metadata": {},
   "source": [
    "# How to build server using graphql, django and postgres.\n",
    "---\n",
    "---"
   ]
  },
  {
   "cell_type": "markdown",
   "metadata": {},
   "source": [
    "# 1. Project Setup"
   ]
  },
  {
   "cell_type": "markdown",
   "metadata": {},
   "source": [
    "## Create an virtual environment\n",
    "```python\n",
    "    $ python3 -m venv [name of env]\n",
    "    $ cd [name of env]\n",
    "```\n",
    "\n",
    "On windows \n",
    "```python\n",
    "    $ Scripts\\activate\n",
    "```\n",
    "\n",
    "On Mac or unix \n",
    "```python\n",
    "    $ source bin\\activate\n",
    "```"
   ]
  },
  {
   "cell_type": "code",
   "execution_count": null,
   "metadata": {},
   "outputs": [],
   "source": []
  }
 ],
 "metadata": {
  "interpreter": {
   "hash": "46d829dc3385d16b3ea83e71641188ccc1ab9843c36eefd6a56fe6d6b731f1e2"
  },
  "kernelspec": {
   "display_name": "Python 3.9.2  ('venv': venv)",
   "name": "python3"
  },
  "language_info": {
   "name": "python",
   "version": ""
  },
  "orig_nbformat": 4
 },
 "nbformat": 4,
 "nbformat_minor": 2
}