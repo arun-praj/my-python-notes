{
 "cells": [
  {
   "cell_type": "markdown",
   "metadata": {},
   "source": [
    "# How to build server using graphql, django and postgres.\n",
    "---\n",
    "---"
   ]
  },
  {
   "cell_type": "markdown",
   "metadata": {},
   "source": [
    "# 1. Project Setup"
   ]
  },
  {
   "cell_type": "markdown",
   "metadata": {},
   "source": [
    "## a. Create an virtual environment\n",
    "```console\n",
    "$ python3 -m venv [name of env]\n",
    "$ cd [name of env]\n",
    "```\n",
    "\n",
    "On windows \n",
    "```console\n",
    "$ Scripts\\activate\n",
    "```\n",
    "\n",
    "On Mac or unix \n",
    "```bash\n",
    "$ source bin\\activate\n",
    "```"
   ]
  },
  {
   "cell_type": "markdown",
   "metadata": {},
   "source": [
    "### To confirm you are in venv.\n",
    "On Mac or unix\n",
    "```bash\n",
    "    $ where python\n",
    "```\n",
    "Output : .../env/bin/python"
   ]
  },
  {
   "cell_type": "markdown",
   "metadata": {},
   "source": [
    "### Leaving the virtual environment\n",
    "```bash\n",
    "$ deactivate\n",
    "```"
   ]
  },
  {
   "cell_type": "markdown",
   "metadata": {},
   "source": [
    "## b. Install the dependency"
   ]
  },
  {
   "cell_type": "code",
   "execution_count": null,
   "metadata": {},
   "outputs": [],
   "source": []
  }
 ],
 "metadata": {
  "interpreter": {
   "hash": "aee8b7b246df8f9039afb4144a1f6fd8d2ca17a180786b69acc140d282b71a49"
  },
  "kernelspec": {
   "display_name": "Python 3.9.2 64-bit",
   "name": "python3"
  },
  "language_info": {
   "name": "python",
   "version": ""
  },
  "orig_nbformat": 4
 },
 "nbformat": 4,
 "nbformat_minor": 2
}